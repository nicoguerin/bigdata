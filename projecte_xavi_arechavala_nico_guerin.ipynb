{
 "cells": [
  {
   "cell_type": "code",
   "execution_count": 2,
   "id": "cd1b7e98",
   "metadata": {},
   "outputs": [],
   "source": [
    "%matplotlib inline\n",
    "#Importar biblioteques\n",
    "import pandas as pd\n",
    "import matplotlib.pyplot as plt\n",
    "import seaborn as sns\n",
    "#Establim format del seaborn\n",
    "sns.set(style=\"darkgrid\")"
   ]
  },
  {
   "cell_type": "code",
   "execution_count": 3,
   "id": "514d8d92",
   "metadata": {},
   "outputs": [],
   "source": [
    "resultats = pd.read_csv('StudentsPerformance.csv')"
   ]
  },
  {
   "cell_type": "code",
   "execution_count": 4,
   "id": "f051f195",
   "metadata": {},
   "outputs": [],
   "source": [
    "# Canviem el nom de les columnes\n",
    "resultats.columns = ['gender', 'race/ethnicity', 'parentalLevelEducation', 'lunch', 'testPreparationCourse', \n",
    "                     'mathScore', 'readingScore', 'writingScore']"
   ]
  }
 ],
 "metadata": {
  "kernelspec": {
   "display_name": "Python 3 (ipykernel)",
   "language": "python",
   "name": "python3"
  },
  "language_info": {
   "codemirror_mode": {
    "name": "ipython",
    "version": 3
   },
   "file_extension": ".py",
   "mimetype": "text/x-python",
   "name": "python",
   "nbconvert_exporter": "python",
   "pygments_lexer": "ipython3",
   "version": "3.7.9"
  }
 },
 "nbformat": 4,
 "nbformat_minor": 5
}
